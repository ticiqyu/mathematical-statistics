{
  "metadata": {
    "language_info": {
      "codemirror_mode": {
        "name": "python",
        "version": 3
      },
      "file_extension": ".py",
      "mimetype": "text/x-python",
      "name": "python",
      "nbconvert_exporter": "python",
      "pygments_lexer": "ipython3",
      "version": "3.8"
    },
    "kernelspec": {
      "name": "python",
      "display_name": "Python (Pyodide)",
      "language": "python"
    }
  },
  "nbformat_minor": 4,
  "nbformat": 4,
  "cells": [
    {
      "cell_type": "code",
      "source": "import numpy as np\nfrom scipy.stats import t\nfrom scipy.stats import f\nfrom scipy.stats import ttest_ind\nfrom scipy.stats import f_oneway\nfrom scipy.stats import bartlett\n\ndef process_file(input_file, output_file):\n    # Открытие входного файла для чтения\n    with open(input_file, 'r') as f_in:\n        # Чтение данных из входного файла\n        lines = f_in.readlines()\n\n        # Извлечение первых трёх столбцов и формирование нового массива\n        data = []\n        for line in lines:\n            # Разделение строки по пробелам и преобразование каждого элемента в число\n            row = [float(x) for x in line.strip().split()]\n            # Извлечение первых трёх элементов\n            extracted_row = row[:3]\n            data.append(extracted_row)\n\n    # Открытие выходного файла для записи\n    with open(output_file, 'w') as f_out:\n        # Запись данных в выходной файл\n        for row in data:\n            # Преобразование элементов строки в строковый формат с точностью до 6 знаков после запятой\n            formatted_row = ['%.6f' % x for x in row]\n            # Соединение элементов строки через пробел\n            line = ' '.join(formatted_row)\n            # Запись строки в файл\n            f_out.write(line + '\\n')\n\n\n#process_file('norm_unsorted.txt', 'output2.txt')\n\ndef process_file_1(input_file, output_file):\n    # Открытие входного файла для чтения\n    with open(input_file, 'r') as f_in:\n        # Чтение данных из входного файла\n        lines = f_in.readlines()\n\n        # Формирование нового массива\n        data = []\n        for line in lines:\n            # Разделение строки по пробелам и преобразование каждого элемента в число\n            row = [float(x) for x in line.strip().split()]\n            data.extend(row)\n\n    # Открытие выходного файла для записи\n    with open(output_file, 'w') as f_out:\n        # Запись данных в выходной файл\n        for item in data:\n            # Преобразование элемента в строковый формат с точностью до 6 знаков после запятой\n            formatted_item = '%.6f' % item\n            # Запись элемента в файл\n            f_out.write(formatted_item + '\\n')\n\n\n#process_file_1('output2.txt', 'output3.txt')\n\nwith open('norm.txt', 'r') as file:\n    norm_data = np.array([float(row.strip()) for row in file])\n\nN = len(norm_data)//3\nm = 3\nnorm_data = norm_data.reshape(N,3)    \nwith open('normTable.txt','w') as file:\n    for row in norm_data:\n        for x in row:\n            file.write(str(x)+\"\\t\")\n        file.write(\"\\n\")\n    \nprint(norm_data)\n\nX1, X2, X3 = norm_data[:,0], norm_data[:,1], norm_data[:,2]\n",
      "metadata": {
        "trusted": true
      },
      "execution_count": 7,
      "outputs": [
        {
          "name": "stdout",
          "text": "[[ 3.07322  1.51317  2.66889]\n [-0.10746  3.77444  3.23707]\n [ 1.03037  2.94085  2.32005]\n [ 1.30789 -0.43326  0.45885]\n [ 2.11064  0.77484  2.23477]\n [ 0.7864   3.68868  1.90816]\n [ 2.75693  2.15845  2.51318]\n [ 1.6277   1.91635  0.15174]\n [-0.85593  0.34195  1.18587]\n [ 2.31516 -0.7214   4.12085]\n [ 2.82519  4.27775  0.82446]\n [ 2.46365  2.61969  3.84731]\n [ 1.90402  2.51901  2.07746]\n [ 1.30448  2.83651  2.32106]\n [-1.05057 -0.80371  0.01518]\n [ 1.29065  0.42748  2.01109]\n [ 0.71323  2.47833  2.89614]\n [ 1.58286  1.54792  1.94523]\n [-0.09015  3.73881  1.87609]\n [ 1.77059  2.23566  3.06231]\n [ 2.01678  0.78148  2.15279]\n [ 1.41523  2.40287  0.06417]\n [ 0.64122  3.20735  1.42562]\n [ 1.8375   1.7357   2.48238]\n [ 0.44692  2.18339  2.42114]\n [ 2.94856  0.76231 -0.35111]\n [-0.52467  2.63768  3.50376]\n [ 3.05184  1.88235  0.21111]\n [ 1.91159  1.85086  2.01751]\n [ 1.36994  2.68434  3.59545]\n [ 1.88455  0.89913  3.71749]\n [ 3.85282  3.08921  3.29263]\n [ 0.89357  2.85372  1.38879]\n [ 0.01689  2.05015 -0.14222]\n [ 2.21352  2.33274  1.30498]\n [ 2.84197  2.32149  1.50217]\n [ 0.51577 -1.68204  1.72212]\n [ 0.44626  1.342    0.8821 ]\n [ 2.26056  1.78507  2.77368]\n [ 2.2638   2.2243   1.64919]\n [ 0.26547  3.978    2.25793]]\n",
          "output_type": "stream"
        }
      ]
    },
    {
      "cell_type": "code",
      "source": "#Задание1\ndef getMean(Xlist):\n    return round(Xlist.sum()/N, 5)\n\ndef getMean2(Xlist):\n    res=(Xlist**2).sum()/N\n    return round(res,5)\n\ndef getS2(mean, mean2):\n    res=N/(N-1)*(mean2 - mean**2)\n    return round(res,5)\n\ndef getT_NM(mean1, S1, mean2, S2):\n    res=(mean1 - mean2)/np.sqrt( S1*(N-1)+S2*(N-1) ) \n    res *= np.sqrt( (N*N*(N+N-2))/(N+N) )\n    return round(res,5)\n\nmeanX1, mean2X1 = getMean(X1), getMean2(X1)\nmeanX2, mean2X2 = getMean(X2), getMean2(X2)\nmeanX3, mean2X3 = getMean(X3), getMean2(X3)\n\nS1 = getS2(meanX1, mean2X1)\nS2 = getS2(meanX2, mean2X2)\nS3 = getS2(meanX3, mean2X3)\n\nT12 = getT_NM(meanX1, S1, meanX2, S2)\nT13 = getT_NM(meanX1, S1, meanX3, S3)\nT23 = getT_NM(meanX2, S2, meanX3, S3)\n\nt_kr = round( t.ppf(0.975, 2*N-2), 5)\n\ndef table1():\n    print(f\"\\nТаблица 1\")\n    print(f\"{meanX1}\\t{meanX2}\\t{mean2X1}\\t{mean2X2}\\t{S1}\\t{S2}\\t{T12}\")\n    print(f\"{meanX1}\\t{meanX3}\\t{mean2X1}\\t{mean2X3}\\t{S1}\\t{S3}\\t{T13}\")\n    print(f\"{meanX2}\\t{meanX3}\\t{mean2X2}\\t{mean2X3}\\t{S2}\\t{S3}\\t{T23}\\n\")\n    \ndef table2():\n    t12, t13, t23 =abs(T12), abs(T13), abs(T23)\n    res1=\"ВЕРНА\" if t12 <= t_kr else \"НЕВЕРНА\"\n    res2=\"ВЕРНА\" if t13 <= t_kr else \"НЕВЕРНА\"\n    res3=\"ВЕРНА\" if t23 <= t_kr else \"НЕВЕРНА\"\n    print(f\"\\nТаблица 2\")\n    print(f\"{t12}\\t{t_kr}\\t{res1}\")\n    print(f\"{t13}\\t{t_kr}\\t{res2}\")\n    print(f\"{t23}\\t{t_kr}\\t{res3}\\n\")\n    \ntable1()\ntable2()",
      "metadata": {
        "trusted": true
      },
      "execution_count": 8,
      "outputs": [
        {
          "name": "stdout",
          "text": "\nТаблица 1\n1.44705\t1.93058\t3.38445\t5.48115\t1.32276\t1.79786\t-1.75265\n1.44705\t1.94018\t3.38445\t5.0931\t1.32276\t1.36202\t-1.92708\n1.93058\t1.94018\t5.48115\t5.0931\t1.79786\t1.36202\t-0.03458\n\n\nТаблица 2\n1.75265\t1.99006\tВЕРНА\n1.92708\t1.99006\tВЕРНА\n0.03458\t1.99006\tВЕРНА\n\n",
          "output_type": "stream"
        }
      ]
    },
    {
      "cell_type": "code",
      "source": "#Задание 2\n\ndef getU():\n    u = round(norm_data.sum()/(m*N), 5)\n    u_vect = np.zeros(m, float)\n    for i in range(m):\n        u_vect[i] = norm_data[:,i].sum()/N\n    return u, u_vect.round(5)\n\nu, u_vec = getU()\nS_ob = ((norm_data-u)**2).sum().round(5)\nS_fc = N*((u_vec-u)**2).sum().round(5)\nS_ost = round(S_ob-S_fc, 5)\n\ns_fc = round(S_fc/(m-1), 5)\ns_ost = round(S_ost/(m*(N-1)), 5)\n\nF_Nm = round(s_fc/s_ost, 5)\nk1, k2 = m-1, m*(N-1)\n\nZ = f.ppf(0.95, k1, k2).round(5)\n\ndef table3():\n    print(f\"\\nТаблица 3\")\n    print(f\"{S_ob}\\t{S_fc}\\t{S_ost}\\t{s_fc}\\t{s_ost}\\t{k1}\\t{k2}\\t{F_Nm}\\n\")\n\ndef table4():\n    res=\"ВЕРНА\" if F_Nm <= Z else \"НЕВЕРНА\"  \n    print(f\"\\nТаблица 4\\n{F_Nm}\\t{0.05}\\t{Z}\\t{res}\\n\")\n\ntable3()\ntable4()",
      "metadata": {
        "trusted": true
      },
      "execution_count": 9,
      "outputs": [
        {
          "name": "stdout",
          "text": "\nТаблица 3\n185.82621\t6.51982\t179.30639\t3.25991\t1.49422\t2\t120\t2.18168\n\n\nТаблица 4\n2.18168\t0.05\t3.07178\tВЕРНА\n\n",
          "output_type": "stream"
        }
      ]
    },
    {
      "cell_type": "code",
      "source": "#Задание 3\n\npval12 = ttest_ind(X1, X2, equal_var = True).pvalue.round(5)\npval13 = ttest_ind(X1, X3, equal_var = True).pvalue.round(5)\npval23 = ttest_ind(X2, X3, equal_var = True).pvalue.round(5)\na = 0.05\ndef table5():\n    res1 = \"ВЕРНА\" if pval12 >= a else \"НЕВЕРНА\"\n    res2 = \"ВЕРНА\" if pval13 >= a else \"НЕВЕРНА\"\n    res3 = \"ВЕРНА\" if pval23 >= a else \"НЕВЕРНА\"\n    print(f\"\\nТаблица 5\")\n    print(f\"{pval12}\\t{a}\\t{res1}\")\n    print(f\"{pval13}\\t{a}\\t{res2}\")\n    print(f\"{pval23}\\t{a}\\t{res3}\\n\")\ntable5()",
      "metadata": {
        "trusted": true
      },
      "execution_count": 10,
      "outputs": [
        {
          "name": "stdout",
          "text": "\nТаблица 5\n0.0835\t0.05\tВЕРНА\n0.05752\t0.05\tВЕРНА\n0.97249\t0.05\tВЕРНА\n\n",
          "output_type": "stream"
        }
      ]
    },
    {
      "cell_type": "code",
      "source": "#Задание 4\n\npval12 = ttest_ind(X1, X2, equal_var = False).pvalue.round(5)\npval13 = ttest_ind(X1, X3, equal_var = False).pvalue.round(5)\npval23 = ttest_ind(X2, X3, equal_var = False).pvalue.round(5)\na = 0.05\ndef table6():\n    res1 = \"ВЕРНА\" if pval12 >= a else \"НЕВЕРНА\"\n    res2 = \"ВЕРНА\" if pval13 >= a else \"НЕВЕРНА\"\n    res3 = \"ВЕРНА\" if pval23 >= a else \"НЕВЕРНА\"\n    print(f\"\\nТаблица 6\")\n    print(f\"{pval12}\\t{a}\\t{res1}\")\n    print(f\"{pval13}\\t{a}\\t{res2}\")\n    print(f\"{pval23}\\t{a}\\t{res3}\\n\")\ntable6()",
      "metadata": {
        "trusted": true
      },
      "execution_count": 11,
      "outputs": [
        {
          "name": "stdout",
          "text": "\nТаблица 6\n0.08358\t0.05\tВЕРНА\n0.05752\t0.05\tВЕРНА\n0.97249\t0.05\tВЕРНА\n\n",
          "output_type": "stream"
        }
      ]
    },
    {
      "cell_type": "code",
      "source": "#Задание 5\n\npval = f_oneway(X1, X2, X3).pvalue.round(5)\na = 0.05\ndef table7():\n    res = \"ВЕРНА\" if pval >= a else \"НЕВЕРНА\"\n    print(f\"\\nТаблица 7\")\n    print(f\"{pval}\\t{a}\\t{res}\\n\")\ntable7()",
      "metadata": {
        "trusted": true
      },
      "execution_count": 12,
      "outputs": [
        {
          "name": "stdout",
          "text": "\nТаблица 7\n0.1173\t0.05\tВЕРНА\n\n",
          "output_type": "stream"
        }
      ]
    },
    {
      "cell_type": "code",
      "source": "#Задание 6\n\nk1, k2 = N-1, N-1\nF_Nm1 = round(max(S1, S2)/min(S1,S2), 5)\nF_Nm2 = round(max(S1, S3)/min(S1,S3), 5)\nF_Nm3 = round(max(S2, S3)/min(S2,S3), 5)\n\n\nZ = f.ppf(0.975, k1,k2).round(5)\n\ndef table8():\n    print(f\"\\nТаблица 8\")\n    print(f\"{S1}\\t{S2}\\t{k1}\\t{k2}\\t{F_Nm1}\")\n    print(f\"{S1}\\t{S3}\\t{k1}\\t{k2}\\t{F_Nm2}\")\n    print(f\"{S2}\\t{S3}\\t{k1}\\t{k2}\\t{F_Nm3}\")\n    \ndef table9():\n    res1=\"ВЕРНА\" if F_Nm1 <= Z else \"НЕВЕРНА\"\n    res2=\"ВЕРНА\" if F_Nm2 <= Z else \"НЕВЕРНА\"\n    res3=\"ВЕРНА\" if F_Nm3 <= Z else \"НЕВЕРНА\"\n    print(f\"\\nТаблица 9\")\n    print(f\"{F_Nm1}\\t{Z}\\t{res1}\")\n    print(f\"{F_Nm2}\\t{Z}\\t{res2}\")\n    print(f\"{F_Nm3}\\t{Z}\\t{res3}\\n\")\n    \ntable8()\ntable9()",
      "metadata": {
        "trusted": true
      },
      "execution_count": 13,
      "outputs": [
        {
          "name": "stdout",
          "text": "\nТаблица 8\n1.32276\t1.79786\t40\t40\t1.35917\n1.32276\t1.36202\t40\t40\t1.02968\n1.79786\t1.36202\t40\t40\t1.32\n\nТаблица 9\n1.35917\t1.8752\tВЕРНА\n1.02968\t1.8752\tВЕРНА\n1.32\t1.8752\tВЕРНА\n\n",
          "output_type": "stream"
        }
      ]
    },
    {
      "cell_type": "code",
      "source": "#Задание 7\n\npval = bartlett(X1, X2, X3).pvalue.round(5)\na = 0.05\ndef table10():\n    res = \"ВЕРНА\" if pval >= a else \"НЕВЕРНА\"\n    print(f\"\\nТаблица 10\")\n    print(f\"{pval}\\t{a}\\t{res}\\n\")\ntable10()\n",
      "metadata": {
        "trusted": true
      },
      "execution_count": 14,
      "outputs": [
        {
          "name": "stdout",
          "text": "\nТаблица 10\n0.55776\t0.05\tВЕРНА\n\n",
          "output_type": "stream"
        }
      ]
    },
    {
      "cell_type": "code",
      "source": "",
      "metadata": {},
      "execution_count": null,
      "outputs": []
    }
  ]
}